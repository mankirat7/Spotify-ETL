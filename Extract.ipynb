{
 "cells": [
  {
   "cell_type": "code",
   "execution_count": null,
   "id": "93c060dc",
   "metadata": {},
   "outputs": [],
   "source": [
    "import pandas as pd \n",
    "import requests\n",
    "from datetime import datetime\n",
    "import datetime\n",
    "\n",
    "\n",
    "USER_ID = \"<Your user id>\"\n",
    "TOKEN = \"<Your token>\"\n",
    "\n",
    "\n",
    "# Creating an function to be used in other pyrhon files\n",
    "def return_dataframe(): \n",
    "    input_variables = {\n",
    "        \"Accept\" : \"application/json\",\n",
    "        \"Content-Type\" : \"application/json\",\n",
    "        \"Authorization\" : \"Bearer {token}\".format(token=TOKEN)\n",
    "    }\n",
    "     \n",
    "    today = datetime.datetime.now()\n",
    "    yesterday = today - datetime.timedelta(days=2)\n",
    "    yesterday_unix_timestamp = int(yesterday.timestamp()) * 1000\n",
    "\n",
    "    # Download all songs you've listened to \"after yesterday\", which means in the last 24 hours      \n",
    "    r = requests.get(\"https://api.spotify.com/v1/me/player/recently-played?after={time}\".format(time=yesterday_unix_timestamp), headers = input_variables)\n",
    "\n",
    "    data = r.json()\n",
    "    song_names = []\n",
    "    artist_names = []\n",
    "    played_at_list = []\n",
    "    timestamps = []\n",
    "    \n",
    "\n",
    "    # Extracting only the relevant bits of data from the json object      \n",
    "    for song in data[\"items\"]:\n",
    "        song_names.append(song[\"track\"][\"name\"])\n",
    "        artist_names.append(song[\"track\"][\"album\"][\"artists\"][0][\"name\"])\n",
    "        played_at_list.append(song[\"played_at\"])\n",
    "        timestamps.append(song[\"played_at\"][0:10])\n",
    "        \n",
    "    # Prepare a dictionary in order to turn it into a pandas dataframe below       \n",
    "    song_dict = {\n",
    "        \"song_name\" : song_names,\n",
    "        \"artist_name\": artist_names,\n",
    "        \"played_at\" : played_at_list,\n",
    "        \"timestamp\" : timestamps\n",
    "    }\n",
    "    song_df = pd.DataFrame(song_dict, columns = [\"song_name\", \"artist_name\", \"played_at\", \"timestamp\"])\n",
    "    return song_df"
   ]
  }
 ],
 "metadata": {
  "kernelspec": {
   "display_name": "Python 3 (ipykernel)",
   "language": "python",
   "name": "python3"
  },
  "language_info": {
   "codemirror_mode": {
    "name": "ipython",
    "version": 3
   },
   "file_extension": ".py",
   "mimetype": "text/x-python",
   "name": "python",
   "nbconvert_exporter": "python",
   "pygments_lexer": "ipython3",
   "version": "3.9.12"
  }
 },
 "nbformat": 4,
 "nbformat_minor": 5
}
