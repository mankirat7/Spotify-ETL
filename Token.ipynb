{
 "cells": [
  {
   "cell_type": "markdown",
   "id": "abfb48bb",
   "metadata": {},
   "source": [
    "# This code helps us get an authorization token and establish a connection with the Spotify API. I have used Python for this."
   ]
  },
  {
   "cell_type": "markdown",
   "id": "367f6fa7",
   "metadata": {},
   "source": [
    "# Create a account and then create an app on the spotify app. In the settings, you will see something called client id and client secret. You will use these to get an authorization token."
   ]
  },
  {
   "cell_type": "code",
   "execution_count": null,
   "id": "7f97fb98",
   "metadata": {},
   "outputs": [],
   "source": [
    "import requests\n",
    "from urllib.parse import urlencode\n",
    "import base64\n",
    "import webbrowser"
   ]
  },
  {
   "cell_type": "code",
   "execution_count": null,
   "id": "7f467c39",
   "metadata": {},
   "outputs": [],
   "source": [
    "client_id = \"<your client id here>\"\n",
    "client_secret = \"<your client secret here>\"\n",
    "\n",
    "auth_headers = {\n",
    "    \"client_id\": client_id,\n",
    "    \"response_type\": \"code\",\n",
    "    \"redirect_uri\": \"http://localhost:7777/callback\",\n",
    "    \"scope\": \"user-read-recently-played\"\n",
    "}\n",
    "\n",
    "webbrowser.open(\"https://accounts.spotify.com/authorize?\" + urlencode(auth_headers))"
   ]
  },
  {
   "cell_type": "markdown",
   "id": "37b13cbe",
   "metadata": {},
   "source": [
    "# Once you’ve logged in and agreed, you’ll be redirected to a blank page. Don’t be alarmed! This is the redirect URL from earlier, with our authorization code as a parameter. Copy that code (without the code= part) into a variable. The code is quite long, so make sure to copy the entire thing!"
   ]
  },
  {
   "cell_type": "code",
   "execution_count": null,
   "id": "8f53255e",
   "metadata": {},
   "outputs": [],
   "source": [
    "code = \"<your code here>\""
   ]
  },
  {
   "cell_type": "code",
   "execution_count": null,
   "id": "9a9157bd",
   "metadata": {},
   "outputs": [],
   "source": [
    "encoded_credentials = base64.b64encode(client_id.encode() + b':' + client_secret.encode()).decode(\"utf-8\")\n",
    "\n",
    "token_headers = {\n",
    "    \"Authorization\": \"Basic \" + encoded_credentials,\n",
    "    \"Content-Type\": \"application/x-www-form-urlencoded\"\n",
    "}\n",
    "\n",
    "token_data = {\n",
    "    \"grant_type\": \"authorization_code\",\n",
    "    \"code\": code,\n",
    "    \"redirect_uri\": \"http://localhost:7777/callback\"\n",
    "}\n",
    "\n",
    "r = requests.post(\"https://accounts.spotify.com/api/token\", data=token_data, headers=token_headers)"
   ]
  },
  {
   "cell_type": "markdown",
   "id": "a1430ff7",
   "metadata": {},
   "source": [
    "# Check if we are getting a response 200"
   ]
  },
  {
   "cell_type": "code",
   "execution_count": null,
   "id": "ee5127cf",
   "metadata": {},
   "outputs": [],
   "source": [
    "r"
   ]
  },
  {
   "cell_type": "markdown",
   "id": "34e2fdf0",
   "metadata": {},
   "source": [
    "# Get and print the token"
   ]
  },
  {
   "cell_type": "code",
   "execution_count": null,
   "id": "58a72cc0",
   "metadata": {},
   "outputs": [],
   "source": [
    "token = r.json()[\"access_token\"]\n",
    "\n",
    "print(token)"
   ]
  }
 ],
 "metadata": {
  "kernelspec": {
   "display_name": "Python 3 (ipykernel)",
   "language": "python",
   "name": "python3"
  },
  "language_info": {
   "codemirror_mode": {
    "name": "ipython",
    "version": 3
   },
   "file_extension": ".py",
   "mimetype": "text/x-python",
   "name": "python",
   "nbconvert_exporter": "python",
   "pygments_lexer": "ipython3",
   "version": "3.9.12"
  }
 },
 "nbformat": 4,
 "nbformat_minor": 5
}
